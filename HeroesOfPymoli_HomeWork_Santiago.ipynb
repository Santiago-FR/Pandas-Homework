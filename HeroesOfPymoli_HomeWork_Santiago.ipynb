{
 "cells": [
  {
   "cell_type": "markdown",
   "metadata": {},
   "source": [
    "## Heroes Of Pymoli Data Analysis"
   ]
  },
  {
   "cell_type": "raw",
   "metadata": {},
   "source": [
    "\n",
    "After a detailed analysis of the data contained in the file \"purchase_data.csv\" the following information stands out a bout the players population\n",
    "\n",
    "•\tTotal number of players:  576 \n",
    "    (Output cell 3)\n",
    "\n",
    "•\tTotal Unique Items: 183 \n",
    "    Average Price: $3.05, \n",
    "    Total sales: 780\n",
    "    Revenue:  $2,379.77 \n",
    "    (Output cell 7)\n",
    "\n",
    "•\tMajority of players are Male representing 83.59% percent of the players population.\n",
    "    Female players represent 14.49%\n",
    "    Other / Non-Disclosed players 1.92% \n",
    "    (Output cell 10)\n",
    "\n",
    "•\tMajority of the purchases are made by Male players with a Sales Total of $1,967.64\n",
    "    Although the minority of sales come from players in the Female and Other / Non-Disclosed groups\n",
    "    the actual average purchase price per person is similar across the three gender groups any where from $4.07 to $4.56 per \n",
    "    individual purchase.\n",
    "    (Output cell 17)\n",
    "\n",
    "•\tPlayers ages 20-24 make up most of the population, 258 strong, followed by 107 players ages 15-19 and 77players ages 25-29 \n",
    "    (Output cell 17)\n",
    "\n",
    "•\tPlayers ages 20-24 have also made the majority of purchases $1,114.06,\n",
    "    followed by those in ages 15-19 with $412.89 in total purchases and players ages 25-29 with $293\n",
    "    (Output cell 26)\n",
    "\n"
   ]
  },
  {
   "cell_type": "markdown",
   "metadata": {},
   "source": [
    "### Note\n",
    "* Instructions have been included for each segment. You do not have to follow them exactly, but they are included to help you think through the steps."
   ]
  },
  {
   "cell_type": "code",
   "execution_count": 1,
   "metadata": {},
   "outputs": [
    {
     "data": {
      "text/html": [
       "<div>\n",
       "<style scoped>\n",
       "    .dataframe tbody tr th:only-of-type {\n",
       "        vertical-align: middle;\n",
       "    }\n",
       "\n",
       "    .dataframe tbody tr th {\n",
       "        vertical-align: top;\n",
       "    }\n",
       "\n",
       "    .dataframe thead th {\n",
       "        text-align: right;\n",
       "    }\n",
       "</style>\n",
       "<table border=\"1\" class=\"dataframe\">\n",
       "  <thead>\n",
       "    <tr style=\"text-align: right;\">\n",
       "      <th></th>\n",
       "      <th>Purchase ID</th>\n",
       "      <th>SN</th>\n",
       "      <th>Age</th>\n",
       "      <th>Gender</th>\n",
       "      <th>Item ID</th>\n",
       "      <th>Item Name</th>\n",
       "      <th>Price</th>\n",
       "    </tr>\n",
       "  </thead>\n",
       "  <tbody>\n",
       "    <tr>\n",
       "      <th>0</th>\n",
       "      <td>0</td>\n",
       "      <td>Lisim78</td>\n",
       "      <td>20</td>\n",
       "      <td>Male</td>\n",
       "      <td>108</td>\n",
       "      <td>Extraction, Quickblade Of Trembling Hands</td>\n",
       "      <td>3.53</td>\n",
       "    </tr>\n",
       "    <tr>\n",
       "      <th>1</th>\n",
       "      <td>1</td>\n",
       "      <td>Lisovynya38</td>\n",
       "      <td>40</td>\n",
       "      <td>Male</td>\n",
       "      <td>143</td>\n",
       "      <td>Frenzied Scimitar</td>\n",
       "      <td>1.56</td>\n",
       "    </tr>\n",
       "    <tr>\n",
       "      <th>2</th>\n",
       "      <td>2</td>\n",
       "      <td>Ithergue48</td>\n",
       "      <td>24</td>\n",
       "      <td>Male</td>\n",
       "      <td>92</td>\n",
       "      <td>Final Critic</td>\n",
       "      <td>4.88</td>\n",
       "    </tr>\n",
       "    <tr>\n",
       "      <th>3</th>\n",
       "      <td>3</td>\n",
       "      <td>Chamassasya86</td>\n",
       "      <td>24</td>\n",
       "      <td>Male</td>\n",
       "      <td>100</td>\n",
       "      <td>Blindscythe</td>\n",
       "      <td>3.27</td>\n",
       "    </tr>\n",
       "    <tr>\n",
       "      <th>4</th>\n",
       "      <td>4</td>\n",
       "      <td>Iskosia90</td>\n",
       "      <td>23</td>\n",
       "      <td>Male</td>\n",
       "      <td>131</td>\n",
       "      <td>Fury</td>\n",
       "      <td>1.44</td>\n",
       "    </tr>\n",
       "  </tbody>\n",
       "</table>\n",
       "</div>"
      ],
      "text/plain": [
       "   Purchase ID             SN  Age Gender  Item ID  \\\n",
       "0            0        Lisim78   20   Male      108   \n",
       "1            1    Lisovynya38   40   Male      143   \n",
       "2            2     Ithergue48   24   Male       92   \n",
       "3            3  Chamassasya86   24   Male      100   \n",
       "4            4      Iskosia90   23   Male      131   \n",
       "\n",
       "                                   Item Name  Price  \n",
       "0  Extraction, Quickblade Of Trembling Hands   3.53  \n",
       "1                          Frenzied Scimitar   1.56  \n",
       "2                               Final Critic   4.88  \n",
       "3                                Blindscythe   3.27  \n",
       "4                                       Fury   1.44  "
      ]
     },
     "execution_count": 1,
     "metadata": {},
     "output_type": "execute_result"
    }
   ],
   "source": [
    "# Dependencies and Setup\n",
    "import pandas as pd\n",
    "import numpy as np\n",
    "\n",
    "file_to_load = \"purchase_data.csv\"\n",
    "purchase_data_df = pd.read_csv(file_to_load)\n",
    "purchase_data_df.head()"
   ]
  },
  {
   "cell_type": "markdown",
   "metadata": {},
   "source": [
    "## Player Count"
   ]
  },
  {
   "cell_type": "markdown",
   "metadata": {},
   "source": [
    "* Display the total number of players\n"
   ]
  },
  {
   "cell_type": "code",
   "execution_count": 2,
   "metadata": {
    "scrolled": true
   },
   "outputs": [
    {
     "data": {
      "text/html": [
       "<div>\n",
       "<style scoped>\n",
       "    .dataframe tbody tr th:only-of-type {\n",
       "        vertical-align: middle;\n",
       "    }\n",
       "\n",
       "    .dataframe tbody tr th {\n",
       "        vertical-align: top;\n",
       "    }\n",
       "\n",
       "    .dataframe thead th {\n",
       "        text-align: right;\n",
       "    }\n",
       "</style>\n",
       "<table border=\"1\" class=\"dataframe\">\n",
       "  <thead>\n",
       "    <tr style=\"text-align: right;\">\n",
       "      <th></th>\n",
       "      <th>Total Players</th>\n",
       "    </tr>\n",
       "  </thead>\n",
       "  <tbody>\n",
       "    <tr>\n",
       "      <th>0</th>\n",
       "      <td>576</td>\n",
       "    </tr>\n",
       "  </tbody>\n",
       "</table>\n",
       "</div>"
      ],
      "text/plain": [
       "   Total Players\n",
       "0            576"
      ]
     },
     "execution_count": 2,
     "metadata": {},
     "output_type": "execute_result"
    }
   ],
   "source": [
    "total_players = len(purchase_data_df[\"SN\"].unique())\n",
    "tp = pd.DataFrame([total_players])\n",
    "ntp = tp.rename(columns={0:\"Total Players\"})\n",
    "ntp"
   ]
  },
  {
   "cell_type": "markdown",
   "metadata": {},
   "source": [
    "## Purchasing Analysis (Total)"
   ]
  },
  {
   "cell_type": "markdown",
   "metadata": {},
   "source": [
    "* Run basic calculations to obtain number of unique items, average price, etc.\n",
    "* Create a summary data frame to hold the results\n",
    "* Optional: give the displayed data cleaner formatting\n",
    "* Display the summary data frame"
   ]
  },
  {
   "cell_type": "code",
   "execution_count": 3,
   "metadata": {
    "scrolled": true
   },
   "outputs": [],
   "source": [
    "# Run basic calculations to obtain number of unique items, average price, etc.\n",
    "info_table_df = purchase_data_df.describe()\n",
    "info_table_df\n",
    "unique_items = purchase_data_df[\"Item ID\"].unique()\n",
    "# unique_items_total\n",
    "unique_items_total = len(unique_items)\n",
    "# tota_number_purchases\n",
    "tota_number_purchases = purchase_data_df[\"Purchase ID\"].count()\n",
    "# total_revenue \n",
    "total_revenue = purchase_data_df[\"Price\"].sum()\n",
    "new_total_revenue = total_revenue\n",
    "# total_revenue = total_rev.map(\"${:,.2f}\".format)\n",
    "# average_price\n",
    "average_price = info_table_df.loc[\"mean\",\"Price\"].round(2)"
   ]
  },
  {
   "cell_type": "code",
   "execution_count": 4,
   "metadata": {},
   "outputs": [],
   "source": [
    "totals = [{\"Unique Items\":unique_items_total,\n",
    "           \"Average Price\":average_price,\n",
    "           \"Number of Purchases\": tota_number_purchases,\n",
    "           \"Total Revenue\":total_revenue}]\n",
    "totals_df = pd.DataFrame(totals)\n",
    "new_totals_df = totals_df[[\"Unique Items\",\n",
    "                           \"Average Price\",\n",
    "                           \"Number of Purchases\",\n",
    "                           \"Total Revenue\"]]\n",
    "\n",
    "new_totals_df[\"Average Price\"] = new_totals_df[\"Average Price\"].map(\"${:,.2f}\".format)\n",
    "new_totals_df[\"Total Revenue\"] = new_totals_df[\"Total Revenue\"].map(\"${:,.2f}\".format)\n"
   ]
  },
  {
   "cell_type": "code",
   "execution_count": 5,
   "metadata": {},
   "outputs": [
    {
     "data": {
      "text/html": [
       "<div>\n",
       "<style scoped>\n",
       "    .dataframe tbody tr th:only-of-type {\n",
       "        vertical-align: middle;\n",
       "    }\n",
       "\n",
       "    .dataframe tbody tr th {\n",
       "        vertical-align: top;\n",
       "    }\n",
       "\n",
       "    .dataframe thead th {\n",
       "        text-align: right;\n",
       "    }\n",
       "</style>\n",
       "<table border=\"1\" class=\"dataframe\">\n",
       "  <thead>\n",
       "    <tr style=\"text-align: right;\">\n",
       "      <th></th>\n",
       "      <th>Unique Items</th>\n",
       "      <th>Average Price</th>\n",
       "      <th>Number of Purchases</th>\n",
       "      <th>Total Revenue</th>\n",
       "    </tr>\n",
       "  </thead>\n",
       "  <tbody>\n",
       "    <tr>\n",
       "      <th>0</th>\n",
       "      <td>183</td>\n",
       "      <td>$3.05</td>\n",
       "      <td>780</td>\n",
       "      <td>$2,379.77</td>\n",
       "    </tr>\n",
       "  </tbody>\n",
       "</table>\n",
       "</div>"
      ],
      "text/plain": [
       "   Unique Items Average Price  Number of Purchases Total Revenue\n",
       "0           183         $3.05                  780     $2,379.77"
      ]
     },
     "execution_count": 5,
     "metadata": {},
     "output_type": "execute_result"
    }
   ],
   "source": [
    "new_totals_df"
   ]
  },
  {
   "cell_type": "markdown",
   "metadata": {},
   "source": [
    "## Gender Demographics"
   ]
  },
  {
   "cell_type": "markdown",
   "metadata": {},
   "source": [
    "* Percentage and Count of Male Players\n",
    "\n",
    "\n",
    "* Percentage and Count of Female Players\n",
    "\n",
    "\n",
    "* Percentage and Count of Other / Non-Disclosed\n",
    "\n",
    "\n"
   ]
  },
  {
   "cell_type": "code",
   "execution_count": 6,
   "metadata": {},
   "outputs": [],
   "source": [
    "gender_unique = purchase_data_df[\"Gender\"].unique()\n",
    "gender_s = pd.Series(purchase_data_df[\"Gender\"])\n",
    "gender_info = gender_s.value_counts()\n",
    "gender_df = pd.DataFrame(gender_info)\n",
    "ren_gender_df = gender_df.rename(columns={\"Gender\":\"Total Count\"})\n",
    "\n",
    "percentage = ((gender_df[\"Gender\"])/780*100).round(2)\n",
    "percentage_df = pd.DataFrame(percentage)\n",
    "ren_percentage_df = percentage_df.rename(columns={\"Gender\":\"Percentage of Players\"})"
   ]
  },
  {
   "cell_type": "code",
   "execution_count": 7,
   "metadata": {},
   "outputs": [
    {
     "data": {
      "text/plain": [
       "Index(['Male', 'Female', 'Other / Non-Disclosed'], dtype='object')"
      ]
     },
     "execution_count": 7,
     "metadata": {},
     "output_type": "execute_result"
    }
   ],
   "source": [
    "ren_percentage_df.index"
   ]
  },
  {
   "cell_type": "code",
   "execution_count": 8,
   "metadata": {},
   "outputs": [
    {
     "data": {
      "text/html": [
       "<div>\n",
       "<style scoped>\n",
       "    .dataframe tbody tr th:only-of-type {\n",
       "        vertical-align: middle;\n",
       "    }\n",
       "\n",
       "    .dataframe tbody tr th {\n",
       "        vertical-align: top;\n",
       "    }\n",
       "\n",
       "    .dataframe thead th {\n",
       "        text-align: right;\n",
       "    }\n",
       "</style>\n",
       "<table border=\"1\" class=\"dataframe\">\n",
       "  <thead>\n",
       "    <tr style=\"text-align: right;\">\n",
       "      <th></th>\n",
       "      <th>Total Count</th>\n",
       "      <th>Percentage of Players</th>\n",
       "    </tr>\n",
       "  </thead>\n",
       "  <tbody>\n",
       "    <tr>\n",
       "      <th>Male</th>\n",
       "      <td>652</td>\n",
       "      <td>83.59</td>\n",
       "    </tr>\n",
       "    <tr>\n",
       "      <th>Female</th>\n",
       "      <td>113</td>\n",
       "      <td>14.49</td>\n",
       "    </tr>\n",
       "    <tr>\n",
       "      <th>Other / Non-Disclosed</th>\n",
       "      <td>15</td>\n",
       "      <td>1.92</td>\n",
       "    </tr>\n",
       "  </tbody>\n",
       "</table>\n",
       "</div>"
      ],
      "text/plain": [
       "                       Total Count  Percentage of Players\n",
       "Male                           652                  83.59\n",
       "Female                         113                  14.49\n",
       "Other / Non-Disclosed           15                   1.92"
      ]
     },
     "execution_count": 8,
     "metadata": {},
     "output_type": "execute_result"
    }
   ],
   "source": [
    "gen_demo_df = pd.concat([ren_gender_df, ren_percentage_df], axis=1)\n",
    "gen_demo_df"
   ]
  },
  {
   "cell_type": "markdown",
   "metadata": {},
   "source": [
    "\n",
    "## Purchasing Analysis (Gender)"
   ]
  },
  {
   "cell_type": "markdown",
   "metadata": {},
   "source": [
    "* Run basic calculations to obtain purchase count, avg. purchase price, avg. purchase total per person etc. by gender\n",
    "* Create a summary data frame to hold the results\n",
    "* Optional: give the displayed data cleaner formatting\n",
    "* Display the summary data frame"
   ]
  },
  {
   "cell_type": "code",
   "execution_count": 9,
   "metadata": {},
   "outputs": [],
   "source": [
    "only_males = purchase_data_df.loc[purchase_data_df[\"Gender\"] == \"Male\", :]\n",
    "only_females = purchase_data_df.loc[purchase_data_df[\"Gender\"] == \"Female\", :]\n",
    "only_othrsnond = purchase_data_df.loc[purchase_data_df[\"Gender\"] == \"Other / Non-Disclosed\", :]"
   ]
  },
  {
   "cell_type": "code",
   "execution_count": 10,
   "metadata": {},
   "outputs": [],
   "source": [
    "# Female data\n",
    "f_purchase_count = only_females[\"SN\"].count()\n",
    "f_avg_purchase = (only_females[\"Price\"].sum() / f_purchase_count)\n",
    "f_total_purchase_v = f_avg_purchase * f_purchase_count\n",
    "\n",
    "# Male Data\n",
    "m_purchase_count = only_males[\"SN\"].count()\n",
    "m_avg_purchase = (only_males[\"Price\"].sum() / m_purchase_count)\n",
    "m_total_purchase_v = m_avg_purchase * m_purchase_count\n",
    "\n",
    "# OND Data\n",
    "\n",
    "ond_purchase_count = only_othrsnond[\"SN\"].count()\n",
    "ond_avg_purchase = (only_othrsnond[\"Price\"].sum() / ond_purchase_count)\n",
    "ond_total_purchase_v = ond_avg_purchase * ond_purchase_count"
   ]
  },
  {
   "cell_type": "code",
   "execution_count": 11,
   "metadata": {},
   "outputs": [],
   "source": [
    "unique_fsn = only_females[\"SN\"].unique()\n",
    "unique_msn = only_males[\"SN\"].unique()\n",
    "unique_ondsn = only_othrsnond[\"SN\"].unique()"
   ]
  },
  {
   "cell_type": "code",
   "execution_count": 12,
   "metadata": {},
   "outputs": [],
   "source": [
    "f_gb_sn = only_females.groupby(['SN'])\n",
    "m_gb_sn = only_males.groupby(['SN'])\n",
    "ond_gb_sn = only_othrsnond.groupby(['SN'])"
   ]
  },
  {
   "cell_type": "code",
   "execution_count": 13,
   "metadata": {},
   "outputs": [],
   "source": [
    "# Avg Total Purchase per Person Gender\n",
    "f_avg_purchase_pp = only_females[\"Price\"].sum() / len(unique_fsn)\n",
    "m_avg_purchase_pp = only_males[\"Price\"].sum() / len(unique_msn)\n",
    "ond_avg_purchase_pp = only_othrsnond[\"Price\"].sum() / len(unique_ondsn)"
   ]
  },
  {
   "cell_type": "code",
   "execution_count": 14,
   "metadata": {},
   "outputs": [],
   "source": [
    "# purchase_count\n",
    "purchase_count = pd.DataFrame([f_purchase_count, m_purchase_count, ond_purchase_count])\n",
    "purchase_count = purchase_count.rename(columns={0:\"Purchase Count\"})\n",
    "purchase_count = purchase_count.rename(index={0:'Female', 1:'Male', 2:'Other / Non-Disclosed' })\n",
    "\n",
    "# average_purchase_price\n",
    "average_purchase_price = pd.DataFrame([f_avg_purchase, m_avg_purchase, ond_avg_purchase])\n",
    "average_purchase_price = average_purchase_price.rename(columns={0:\"Average Purchase Price\"})\n",
    "average_purchase_price = average_purchase_price.rename(index={0:'Female', 1:'Male', 2:'Other / Non-Disclosed' })\n",
    "average_purchase_price[\"Average Purchase Price\"] = average_purchase_price[\"Average Purchase Price\"].map(\"${:,.2f}\".format)\n",
    "\n",
    "# total_purchase_value\n",
    "total_purchase_value = pd.DataFrame([f_total_purchase_v, m_total_purchase_v, ond_total_purchase_v])\n",
    "total_purchase_value = total_purchase_value.rename(columns={0:\"Total Purchase Value\"})\n",
    "total_purchase_value = total_purchase_value.rename(index={0:'Female', 1:'Male', 2:'Other / Non-Disclosed' })\n",
    "total_purchase_value[\"Total Purchase Value\"] = total_purchase_value[\"Total Purchase Value\"].map(\"${:,.2f}\".format)\n",
    "\n",
    "\n",
    "# Avg Total Purchase per Person\n",
    "avg_total_purchase_pp = pd.DataFrame([f_avg_purchase_pp, m_avg_purchase_pp, ond_avg_purchase_pp])\n",
    "avg_total_purchase_pp = avg_total_purchase_pp.rename(columns={0:\"Avg Total Purchase per Person\"})\n",
    "avg_total_purchase_pp = avg_total_purchase_pp.rename(index={0:'Female', 1:'Male', 2:'Other / Non-Disclosed' })\n",
    "avg_total_purchase_pp[\"Avg Total Purchase per Person\"] = avg_total_purchase_pp[\"Avg Total Purchase per Person\"].map(\"${:,.2f}\".format)\n"
   ]
  },
  {
   "cell_type": "code",
   "execution_count": 15,
   "metadata": {},
   "outputs": [
    {
     "data": {
      "text/html": [
       "<div>\n",
       "<style scoped>\n",
       "    .dataframe tbody tr th:only-of-type {\n",
       "        vertical-align: middle;\n",
       "    }\n",
       "\n",
       "    .dataframe tbody tr th {\n",
       "        vertical-align: top;\n",
       "    }\n",
       "\n",
       "    .dataframe thead th {\n",
       "        text-align: right;\n",
       "    }\n",
       "</style>\n",
       "<table border=\"1\" class=\"dataframe\">\n",
       "  <thead>\n",
       "    <tr style=\"text-align: right;\">\n",
       "      <th></th>\n",
       "      <th>Purchase Count</th>\n",
       "      <th>Average Purchase Price</th>\n",
       "      <th>Total Purchase Value</th>\n",
       "      <th>Avg Total Purchase per Person</th>\n",
       "    </tr>\n",
       "  </thead>\n",
       "  <tbody>\n",
       "    <tr>\n",
       "      <th>Female</th>\n",
       "      <td>113</td>\n",
       "      <td>$3.20</td>\n",
       "      <td>$361.94</td>\n",
       "      <td>$4.47</td>\n",
       "    </tr>\n",
       "    <tr>\n",
       "      <th>Male</th>\n",
       "      <td>652</td>\n",
       "      <td>$3.02</td>\n",
       "      <td>$1,967.64</td>\n",
       "      <td>$4.07</td>\n",
       "    </tr>\n",
       "    <tr>\n",
       "      <th>Other / Non-Disclosed</th>\n",
       "      <td>15</td>\n",
       "      <td>$3.35</td>\n",
       "      <td>$50.19</td>\n",
       "      <td>$4.56</td>\n",
       "    </tr>\n",
       "  </tbody>\n",
       "</table>\n",
       "</div>"
      ],
      "text/plain": [
       "                       Purchase Count Average Purchase Price  \\\n",
       "Female                            113                  $3.20   \n",
       "Male                              652                  $3.02   \n",
       "Other / Non-Disclosed              15                  $3.35   \n",
       "\n",
       "                      Total Purchase Value Avg Total Purchase per Person  \n",
       "Female                             $361.94                         $4.47  \n",
       "Male                             $1,967.64                         $4.07  \n",
       "Other / Non-Disclosed               $50.19                         $4.56  "
      ]
     },
     "execution_count": 15,
     "metadata": {},
     "output_type": "execute_result"
    }
   ],
   "source": [
    "purchasing_analysis_gender = pd.concat([purchase_count, average_purchase_price, \n",
    "                                        total_purchase_value, avg_total_purchase_pp], axis=1)\n",
    "purchasing_analysis_gender"
   ]
  },
  {
   "cell_type": "markdown",
   "metadata": {},
   "source": [
    "## Age Demographics"
   ]
  },
  {
   "cell_type": "markdown",
   "metadata": {},
   "source": [
    "* Establish bins for ages\n",
    "\n",
    "\n",
    "* Categorize the existing players using the age bins. Hint: use pd.cut()\n",
    "\n",
    "\n",
    "* Calculate the numbers and percentages by age group\n",
    "\n",
    "\n",
    "* Create a summary data frame to hold the results\n",
    "\n",
    "\n",
    "* Optional: round the percentage column to two decimal points\n",
    "\n",
    "\n",
    "* Display Age Demographics Table\n"
   ]
  },
  {
   "cell_type": "code",
   "execution_count": 16,
   "metadata": {},
   "outputs": [
    {
     "data": {
      "text/plain": [
       "array([ 7,  8,  9, 10, 11, 12, 13, 14, 15, 16, 17, 18, 19, 20, 21, 22, 23,\n",
       "       24, 25, 26, 27, 28, 29, 30, 31, 32, 33, 34, 35, 36, 37, 38, 39, 40,\n",
       "       41, 42, 43, 44, 45], dtype=int64)"
      ]
     },
     "execution_count": 16,
     "metadata": {},
     "output_type": "execute_result"
    }
   ],
   "source": [
    "age_unique = np.sort(purchase_data_df[\"Age\"].unique())\n",
    "age_unique"
   ]
  },
  {
   "cell_type": "code",
   "execution_count": 17,
   "metadata": {},
   "outputs": [],
   "source": [
    "age_bins = [ 0, 9.9, 14.9, 19.9, 24.9, 29.9, 34.9, 39.9, 99.9]\n",
    "age_grps = [\"<10\",\"10-14\", \"15-19\",\"20-24\",\"25-29\",\"30-34\",\"34-39\",\"40+\"]\n",
    "\n",
    "purchase_data_df[\"Age Group\"] = pd.cut(purchase_data_df[\"Age\"], age_bins, labels=age_grps)\n",
    "# purchase_data_df.head(3)"
   ]
  },
  {
   "cell_type": "code",
   "execution_count": 18,
   "metadata": {},
   "outputs": [],
   "source": [
    "new_age_df = purchase_data_df.drop([\"Purchase ID\", \"Gender\",\"Item ID\",\"Item Name\",\"Price\"], axis=1)\n",
    "new_age_unique_df = new_age_df.drop_duplicates(subset=\"SN\", keep= 'first', inplace=False)\n",
    "# new_age_unique_df.head(10)"
   ]
  },
  {
   "cell_type": "code",
   "execution_count": 19,
   "metadata": {},
   "outputs": [
    {
     "data": {
      "text/html": [
       "<div>\n",
       "<style scoped>\n",
       "    .dataframe tbody tr th:only-of-type {\n",
       "        vertical-align: middle;\n",
       "    }\n",
       "\n",
       "    .dataframe tbody tr th {\n",
       "        vertical-align: top;\n",
       "    }\n",
       "\n",
       "    .dataframe thead th {\n",
       "        text-align: right;\n",
       "    }\n",
       "</style>\n",
       "<table border=\"1\" class=\"dataframe\">\n",
       "  <thead>\n",
       "    <tr style=\"text-align: right;\">\n",
       "      <th></th>\n",
       "      <th>Age Group</th>\n",
       "    </tr>\n",
       "  </thead>\n",
       "  <tbody>\n",
       "    <tr>\n",
       "      <th>&lt;10</th>\n",
       "      <td>17</td>\n",
       "    </tr>\n",
       "    <tr>\n",
       "      <th>10-14</th>\n",
       "      <td>22</td>\n",
       "    </tr>\n",
       "    <tr>\n",
       "      <th>15-19</th>\n",
       "      <td>107</td>\n",
       "    </tr>\n",
       "    <tr>\n",
       "      <th>20-24</th>\n",
       "      <td>258</td>\n",
       "    </tr>\n",
       "    <tr>\n",
       "      <th>25-29</th>\n",
       "      <td>77</td>\n",
       "    </tr>\n",
       "    <tr>\n",
       "      <th>30-34</th>\n",
       "      <td>52</td>\n",
       "    </tr>\n",
       "    <tr>\n",
       "      <th>34-39</th>\n",
       "      <td>31</td>\n",
       "    </tr>\n",
       "    <tr>\n",
       "      <th>40+</th>\n",
       "      <td>12</td>\n",
       "    </tr>\n",
       "  </tbody>\n",
       "</table>\n",
       "</div>"
      ],
      "text/plain": [
       "       Age Group\n",
       "<10           17\n",
       "10-14         22\n",
       "15-19        107\n",
       "20-24        258\n",
       "25-29         77\n",
       "30-34         52\n",
       "34-39         31\n",
       "40+           12"
      ]
     },
     "execution_count": 19,
     "metadata": {},
     "output_type": "execute_result"
    }
   ],
   "source": [
    "nau_df = pd.DataFrame(new_age_unique_df[\"Age Group\"].value_counts())\n",
    "nau_df = nau_df.reindex(index = age_grps)\n",
    "nau_df"
   ]
  },
  {
   "cell_type": "markdown",
   "metadata": {},
   "source": [
    "## Purchasing Analysis (Age)"
   ]
  },
  {
   "cell_type": "markdown",
   "metadata": {},
   "source": [
    "* Bin the purchase_data data frame by age\n",
    "\n",
    "\n",
    "* Run basic calculations to obtain purchase count, avg. purchase price, avg. purchase total per person etc. in the table below\n",
    "\n",
    "\n",
    "* Create a summary data frame to hold the results\n",
    "\n",
    "\n",
    "* Optional: give the displayed data cleaner formatting\n",
    "\n",
    "\n",
    "* Display the summary data frame"
   ]
  },
  {
   "cell_type": "code",
   "execution_count": 20,
   "metadata": {},
   "outputs": [
    {
     "data": {
      "text/html": [
       "<div>\n",
       "<style scoped>\n",
       "    .dataframe tbody tr th:only-of-type {\n",
       "        vertical-align: middle;\n",
       "    }\n",
       "\n",
       "    .dataframe tbody tr th {\n",
       "        vertical-align: top;\n",
       "    }\n",
       "\n",
       "    .dataframe thead th {\n",
       "        text-align: right;\n",
       "    }\n",
       "</style>\n",
       "<table border=\"1\" class=\"dataframe\">\n",
       "  <thead>\n",
       "    <tr style=\"text-align: right;\">\n",
       "      <th></th>\n",
       "      <th>Purchase Count</th>\n",
       "    </tr>\n",
       "  </thead>\n",
       "  <tbody>\n",
       "    <tr>\n",
       "      <th>&lt;10</th>\n",
       "      <td>23</td>\n",
       "    </tr>\n",
       "    <tr>\n",
       "      <th>10-14</th>\n",
       "      <td>28</td>\n",
       "    </tr>\n",
       "    <tr>\n",
       "      <th>15-19</th>\n",
       "      <td>136</td>\n",
       "    </tr>\n",
       "    <tr>\n",
       "      <th>20-24</th>\n",
       "      <td>365</td>\n",
       "    </tr>\n",
       "    <tr>\n",
       "      <th>25-29</th>\n",
       "      <td>101</td>\n",
       "    </tr>\n",
       "    <tr>\n",
       "      <th>30-34</th>\n",
       "      <td>73</td>\n",
       "    </tr>\n",
       "    <tr>\n",
       "      <th>34-39</th>\n",
       "      <td>41</td>\n",
       "    </tr>\n",
       "    <tr>\n",
       "      <th>40+</th>\n",
       "      <td>13</td>\n",
       "    </tr>\n",
       "  </tbody>\n",
       "</table>\n",
       "</div>"
      ],
      "text/plain": [
       "       Purchase Count\n",
       "<10                23\n",
       "10-14              28\n",
       "15-19             136\n",
       "20-24             365\n",
       "25-29             101\n",
       "30-34              73\n",
       "34-39              41\n",
       "40+                13"
      ]
     },
     "execution_count": 20,
     "metadata": {},
     "output_type": "execute_result"
    }
   ],
   "source": [
    "# Purchase Count\n",
    "ageg_df= purchase_data_df.drop([ \"Purchase ID\",\"SN\", \"Age\",\"Gender\",\"Item ID\",\"Item Name\",\"Price\"], axis=1)\n",
    "ageg_df[\"Age Group\"].value_counts()\n",
    "ageg_df = pd.DataFrame(ageg_df[\"Age Group\"].value_counts())\n",
    "ageg_df = ageg_df.reindex(index = age_grps)\n",
    "ageg_df = ageg_df.rename(columns={'Age Group': 'Purchase Count'})\n",
    "ageg_df"
   ]
  },
  {
   "cell_type": "code",
   "execution_count": 21,
   "metadata": {},
   "outputs": [],
   "source": [
    "au10 = purchase_data_df.loc[purchase_data_df[\"Age Group\"] == \"<10\", :]\n",
    "au15 = purchase_data_df.loc[purchase_data_df[\"Age Group\"] == \"10-14\", :]\n",
    "au20 = purchase_data_df.loc[purchase_data_df[\"Age Group\"] == \"15-19\", :]\n",
    "au25 = purchase_data_df.loc[purchase_data_df[\"Age Group\"] == \"20-24\", :]\n",
    "au30 = purchase_data_df.loc[purchase_data_df[\"Age Group\"] == \"25-29\", :]\n",
    "au35 = purchase_data_df.loc[purchase_data_df[\"Age Group\"] == \"30-34\", :]\n",
    "au40 = purchase_data_df.loc[purchase_data_df[\"Age Group\"] == \"34-39\", :]\n",
    "ao40 = purchase_data_df.loc[purchase_data_df[\"Age Group\"] == \"40+\", :]\n",
    "# au10.head()"
   ]
  },
  {
   "cell_type": "code",
   "execution_count": 22,
   "metadata": {},
   "outputs": [],
   "source": [
    "# au10 data\n",
    "au10_purchase_count = au10[\"SN\"].count()\n",
    "au10_avg_purchase = (au10[\"Price\"].sum() / au10_purchase_count)\n",
    "au10_total_purchase_v = au10_avg_purchase * au10_purchase_count\n",
    "au10_unique_sn = au10[\"SN\"].unique()\n",
    "au10_avg_purchase_pp = au10[\"Price\"].sum() / len(au10_unique_sn)\n",
    "# au15 data\n",
    "au15_purchase_count = au15[\"SN\"].count()\n",
    "au15_avg_purchase = (au15[\"Price\"].sum() / au15_purchase_count)\n",
    "au15_total_purchase_v = au15_avg_purchase * au15_purchase_count\n",
    "au15_unique_sn = au15[\"SN\"].unique()\n",
    "au15_avg_purchase_pp = au15[\"Price\"].sum() / len(au15_unique_sn)\n",
    "# au20 data\n",
    "au20_purchase_count = au20[\"SN\"].count()\n",
    "au20_avg_purchase = (au20[\"Price\"].sum() / au20_purchase_count)\n",
    "au20_total_purchase_v = au20_avg_purchase * au20_purchase_count\n",
    "au20_unique_sn = au20[\"SN\"].unique()\n",
    "au20_avg_purchase_pp = au20[\"Price\"].sum() / len(au20_unique_sn)\n",
    "# au25 data\n",
    "au25_purchase_count = au25[\"SN\"].count()\n",
    "au25_avg_purchase = (au25[\"Price\"].sum() / au25_purchase_count)\n",
    "au25_total_purchase_v = au25_avg_purchase * au25_purchase_count\n",
    "au25_unique_sn = au25[\"SN\"].unique()\n",
    "au25_avg_purchase_pp = au25[\"Price\"].sum() / len(au25_unique_sn)\n",
    "# au30 data\n",
    "au30_purchase_count = au30[\"SN\"].count()\n",
    "au30_avg_purchase = (au30[\"Price\"].sum() / au30_purchase_count)\n",
    "au30_total_purchase_v = au30_avg_purchase * au30_purchase_count\n",
    "au30_unique_sn = au30[\"SN\"].unique()\n",
    "au30_avg_purchase_pp = au30[\"Price\"].sum() / len(au30_unique_sn)\n",
    "# au35 data\n",
    "au35_purchase_count = au35[\"SN\"].count()\n",
    "au35_avg_purchase = (au35[\"Price\"].sum() / au35_purchase_count)\n",
    "au35_total_purchase_v = au35_avg_purchase * au35_purchase_count\n",
    "au35_unique_sn = au35[\"SN\"].unique()\n",
    "au35_avg_purchase_pp = au35[\"Price\"].sum() / len(au35_unique_sn)\n",
    "# au40 data\n",
    "au40_purchase_count = au40[\"SN\"].count()\n",
    "au40_avg_purchase = (au40[\"Price\"].sum() / au40_purchase_count)\n",
    "au40_total_purchase_v = au40_avg_purchase * au40_purchase_count\n",
    "au40_unique_sn = au40[\"SN\"].unique()\n",
    "au40_avg_purchase_pp = au40[\"Price\"].sum() / len(au40_unique_sn)\n",
    "# ao40 data\n",
    "ao40_purchase_count = ao40[\"SN\"].count()\n",
    "ao40_avg_purchase = (ao40[\"Price\"].sum() / ao40_purchase_count)\n",
    "ao40_total_purchase_v = ao40_avg_purchase * ao40_purchase_count\n",
    "ao40_unique_sn = ao40[\"SN\"].unique()\n",
    "ao40_avg_purchase_pp = ao40[\"Price\"].sum() / len(ao40_unique_sn)"
   ]
  },
  {
   "cell_type": "code",
   "execution_count": 23,
   "metadata": {},
   "outputs": [],
   "source": [
    "# purchase_count\n",
    "age_purchase_count = pd.DataFrame([au10_purchase_count,au15_purchase_count,au20_purchase_count,au25_purchase_count,\n",
    "                                   au30_purchase_count,au35_purchase_count,au40_purchase_count,ao40_purchase_count])\n",
    "age_purchase_count = age_purchase_count.rename(columns={0:\"Purchase Count\"})\n",
    "age_purchase_count = age_purchase_count.rename(index={0:\"<10\",1:\"10-14\",2:\"15-19\",3:\"20-24\",4:\"25-29\",\n",
    "                                                      5:\"30-34\",6:\"34-39\",7:\"40+\" })\n",
    "\n",
    "# average_purchase_price\n",
    "age_average_purchase_price = pd.DataFrame([au10_avg_purchase,au15_avg_purchase,au20_avg_purchase,au25_avg_purchase,\n",
    "                                           au30_avg_purchase,au35_avg_purchase,au40_avg_purchase,ao40_avg_purchase])\n",
    "age_average_purchase_price = age_average_purchase_price.rename(columns={0:\"Average Purchase Price\"})\n",
    "age_average_purchase_price = age_average_purchase_price.rename(index={0:\"<10\",1:\"10-14\",2:\"15-19\",3:\"20-24\",4:\"25-29\",\n",
    "                                                                      5:\"30-34\",6:\"34-39\",7:\"40+\" })\n",
    "age_average_purchase_price[\"Average Purchase Price\"] = age_average_purchase_price[\"Average Purchase Price\"].map(\"${:,.2f}\".format)\n",
    "\n",
    "\n",
    "# total_purchase_value\n",
    "age_total_purchase_value = pd.DataFrame([au10_total_purchase_v,au15_total_purchase_v,au20_total_purchase_v,\n",
    "                                         au25_total_purchase_v,au30_total_purchase_v,au35_total_purchase_v,\n",
    "                                         au40_total_purchase_v,ao40_total_purchase_v])\n",
    "age_total_purchase_value = age_total_purchase_value.rename(columns={0:\"Total Purchase Value\"})\n",
    "age_total_purchase_value = age_total_purchase_value.rename(index={0:\"<10\",1:\"10-14\",2:\"15-19\",3:\"20-24\",4:\"25-29\",\n",
    "                                                                  5:\"30-34\",6:\"34-39\",7:\"40+\" })\n",
    "age_total_purchase_value[\"Total Purchase Value\"] = age_total_purchase_value[\"Total Purchase Value\"].map(\"${:,.2f}\".format)\n",
    "\n",
    "\n",
    "# Avg Total Purchase per Person\n",
    "age_avg_total_purchase_pp = pd.DataFrame([au10_avg_purchase_pp,au15_avg_purchase_pp,au20_avg_purchase_pp,au25_avg_purchase_pp,\n",
    "                                          au30_avg_purchase_pp,au35_avg_purchase_pp,au40_avg_purchase_pp,ao40_avg_purchase_pp])\n",
    "age_avg_total_purchase_pp = age_avg_total_purchase_pp.rename(columns={0:\"Avg Total Purchase per Person\"})\n",
    "age_avg_total_purchase_pp = age_avg_total_purchase_pp.rename(index={0:\"<10\",1:\"10-14\",2:\"15-19\",3:\"20-24\",4:\"25-29\",\n",
    "                                                                    5:\"30-34\",6:\"34-39\",7:\"40+\" })\n",
    "age_avg_total_purchase_pp[\"Avg Total Purchase per Person\"] = age_avg_total_purchase_pp[\"Avg Total Purchase per Person\"].map(\"${:,.2f}\".format)\n"
   ]
  },
  {
   "cell_type": "code",
   "execution_count": 24,
   "metadata": {},
   "outputs": [
    {
     "data": {
      "text/html": [
       "<div>\n",
       "<style scoped>\n",
       "    .dataframe tbody tr th:only-of-type {\n",
       "        vertical-align: middle;\n",
       "    }\n",
       "\n",
       "    .dataframe tbody tr th {\n",
       "        vertical-align: top;\n",
       "    }\n",
       "\n",
       "    .dataframe thead th {\n",
       "        text-align: right;\n",
       "    }\n",
       "</style>\n",
       "<table border=\"1\" class=\"dataframe\">\n",
       "  <thead>\n",
       "    <tr style=\"text-align: right;\">\n",
       "      <th></th>\n",
       "      <th>Purchase Count</th>\n",
       "      <th>Average Purchase Price</th>\n",
       "      <th>Total Purchase Value</th>\n",
       "      <th>Avg Total Purchase per Person</th>\n",
       "    </tr>\n",
       "  </thead>\n",
       "  <tbody>\n",
       "    <tr>\n",
       "      <th>&lt;10</th>\n",
       "      <td>23</td>\n",
       "      <td>$3.35</td>\n",
       "      <td>$77.13</td>\n",
       "      <td>$4.54</td>\n",
       "    </tr>\n",
       "    <tr>\n",
       "      <th>10-14</th>\n",
       "      <td>28</td>\n",
       "      <td>$2.96</td>\n",
       "      <td>$82.78</td>\n",
       "      <td>$3.76</td>\n",
       "    </tr>\n",
       "    <tr>\n",
       "      <th>15-19</th>\n",
       "      <td>136</td>\n",
       "      <td>$3.04</td>\n",
       "      <td>$412.89</td>\n",
       "      <td>$3.86</td>\n",
       "    </tr>\n",
       "    <tr>\n",
       "      <th>20-24</th>\n",
       "      <td>365</td>\n",
       "      <td>$3.05</td>\n",
       "      <td>$1,114.06</td>\n",
       "      <td>$4.32</td>\n",
       "    </tr>\n",
       "    <tr>\n",
       "      <th>25-29</th>\n",
       "      <td>101</td>\n",
       "      <td>$2.90</td>\n",
       "      <td>$293.00</td>\n",
       "      <td>$3.81</td>\n",
       "    </tr>\n",
       "    <tr>\n",
       "      <th>30-34</th>\n",
       "      <td>73</td>\n",
       "      <td>$2.93</td>\n",
       "      <td>$214.00</td>\n",
       "      <td>$4.12</td>\n",
       "    </tr>\n",
       "    <tr>\n",
       "      <th>34-39</th>\n",
       "      <td>41</td>\n",
       "      <td>$3.60</td>\n",
       "      <td>$147.67</td>\n",
       "      <td>$4.76</td>\n",
       "    </tr>\n",
       "    <tr>\n",
       "      <th>40+</th>\n",
       "      <td>13</td>\n",
       "      <td>$2.94</td>\n",
       "      <td>$38.24</td>\n",
       "      <td>$3.19</td>\n",
       "    </tr>\n",
       "  </tbody>\n",
       "</table>\n",
       "</div>"
      ],
      "text/plain": [
       "       Purchase Count Average Purchase Price Total Purchase Value  \\\n",
       "<10                23                  $3.35               $77.13   \n",
       "10-14              28                  $2.96               $82.78   \n",
       "15-19             136                  $3.04              $412.89   \n",
       "20-24             365                  $3.05            $1,114.06   \n",
       "25-29             101                  $2.90              $293.00   \n",
       "30-34              73                  $2.93              $214.00   \n",
       "34-39              41                  $3.60              $147.67   \n",
       "40+                13                  $2.94               $38.24   \n",
       "\n",
       "      Avg Total Purchase per Person  \n",
       "<10                           $4.54  \n",
       "10-14                         $3.76  \n",
       "15-19                         $3.86  \n",
       "20-24                         $4.32  \n",
       "25-29                         $3.81  \n",
       "30-34                         $4.12  \n",
       "34-39                         $4.76  \n",
       "40+                           $3.19  "
      ]
     },
     "execution_count": 24,
     "metadata": {},
     "output_type": "execute_result"
    }
   ],
   "source": [
    "purchasing_analysis_age = pd.concat([age_purchase_count, age_average_purchase_price, \n",
    "                                        age_total_purchase_value, age_avg_total_purchase_pp], axis=1)\n",
    "purchasing_analysis_age"
   ]
  },
  {
   "cell_type": "markdown",
   "metadata": {},
   "source": [
    "## Top Spenders"
   ]
  },
  {
   "cell_type": "markdown",
   "metadata": {},
   "source": [
    "* Run basic calculations to obtain the results in the table below\n",
    "\n",
    "\n",
    "* Create a summary data frame to hold the results\n",
    "\n",
    "\n",
    "* Sort the total purchase value column in descending order\n",
    "\n",
    "\n",
    "* Optional: give the displayed data cleaner formatting\n",
    "\n",
    "\n",
    "* Display a preview of the summary data frame\n",
    "\n"
   ]
  },
  {
   "cell_type": "code",
   "execution_count": null,
   "metadata": {},
   "outputs": [],
   "source": []
  },
  {
   "cell_type": "markdown",
   "metadata": {},
   "source": [
    "## Most Popular Items"
   ]
  },
  {
   "cell_type": "markdown",
   "metadata": {},
   "source": [
    "* Retrieve the Item ID, Item Name, and Item Price columns\n",
    "\n",
    "\n",
    "* Group by Item ID and Item Name. Perform calculations to obtain purchase count, item price, and total purchase value\n",
    "\n",
    "\n",
    "* Create a summary data frame to hold the results\n",
    "\n",
    "\n",
    "* Sort the purchase count column in descending order\n",
    "\n",
    "\n",
    "* Optional: give the displayed data cleaner formatting\n",
    "\n",
    "\n",
    "* Display a preview of the summary data frame\n",
    "\n"
   ]
  },
  {
   "cell_type": "code",
   "execution_count": 25,
   "metadata": {},
   "outputs": [
    {
     "data": {
      "text/html": [
       "<div>\n",
       "<style scoped>\n",
       "    .dataframe tbody tr th:only-of-type {\n",
       "        vertical-align: middle;\n",
       "    }\n",
       "\n",
       "    .dataframe tbody tr th {\n",
       "        vertical-align: top;\n",
       "    }\n",
       "\n",
       "    .dataframe thead th {\n",
       "        text-align: right;\n",
       "    }\n",
       "</style>\n",
       "<table border=\"1\" class=\"dataframe\">\n",
       "  <thead>\n",
       "    <tr style=\"text-align: right;\">\n",
       "      <th></th>\n",
       "      <th>Item ID</th>\n",
       "      <th>Item Name</th>\n",
       "      <th>Price</th>\n",
       "    </tr>\n",
       "  </thead>\n",
       "  <tbody>\n",
       "    <tr>\n",
       "      <th>0</th>\n",
       "      <td>108</td>\n",
       "      <td>Extraction, Quickblade Of Trembling Hands</td>\n",
       "      <td>3.53</td>\n",
       "    </tr>\n",
       "    <tr>\n",
       "      <th>1</th>\n",
       "      <td>143</td>\n",
       "      <td>Frenzied Scimitar</td>\n",
       "      <td>1.56</td>\n",
       "    </tr>\n",
       "    <tr>\n",
       "      <th>2</th>\n",
       "      <td>92</td>\n",
       "      <td>Final Critic</td>\n",
       "      <td>4.88</td>\n",
       "    </tr>\n",
       "    <tr>\n",
       "      <th>3</th>\n",
       "      <td>100</td>\n",
       "      <td>Blindscythe</td>\n",
       "      <td>3.27</td>\n",
       "    </tr>\n",
       "    <tr>\n",
       "      <th>4</th>\n",
       "      <td>131</td>\n",
       "      <td>Fury</td>\n",
       "      <td>1.44</td>\n",
       "    </tr>\n",
       "  </tbody>\n",
       "</table>\n",
       "</div>"
      ],
      "text/plain": [
       "   Item ID                                  Item Name  Price\n",
       "0      108  Extraction, Quickblade Of Trembling Hands   3.53\n",
       "1      143                          Frenzied Scimitar   1.56\n",
       "2       92                               Final Critic   4.88\n",
       "3      100                                Blindscythe   3.27\n",
       "4      131                                       Fury   1.44"
      ]
     },
     "execution_count": 25,
     "metadata": {},
     "output_type": "execute_result"
    }
   ],
   "source": [
    "item_df = pd.DataFrame(purchase_data_df[[\"Item ID\",\"Item Name\",\"Price\"]])\n",
    "item_df.head()"
   ]
  },
  {
   "cell_type": "markdown",
   "metadata": {},
   "source": [
    "## Most Profitable Items"
   ]
  },
  {
   "cell_type": "markdown",
   "metadata": {},
   "source": [
    "* Sort the above table by total purchase value in descending order\n",
    "\n",
    "\n",
    "* Optional: give the displayed data cleaner formatting\n",
    "\n",
    "\n",
    "* Display a preview of the data frame\n",
    "\n"
   ]
  },
  {
   "cell_type": "code",
   "execution_count": null,
   "metadata": {
    "scrolled": true
   },
   "outputs": [],
   "source": []
  },
  {
   "cell_type": "code",
   "execution_count": null,
   "metadata": {},
   "outputs": [],
   "source": []
  }
 ],
 "metadata": {
  "anaconda-cloud": {},
  "kernel_info": {
   "name": "python3"
  },
  "kernelspec": {
   "display_name": "Python 3",
   "language": "python",
   "name": "python3"
  },
  "language_info": {
   "codemirror_mode": {
    "name": "ipython",
    "version": 3
   },
   "file_extension": ".py",
   "mimetype": "text/x-python",
   "name": "python",
   "nbconvert_exporter": "python",
   "pygments_lexer": "ipython3",
   "version": "3.7.1"
  },
  "nteract": {
   "version": "0.2.0"
  }
 },
 "nbformat": 4,
 "nbformat_minor": 2
}
